{
 "cells": [
  {
   "cell_type": "code",
   "execution_count": null,
   "id": "initial_id",
   "metadata": {
    "collapsed": true
   },
   "outputs": [],
   "source": [
    "k=0\n",
    "while k!=4:\n",
    "    from random import *\n",
    "    a=randint(100,9999)\n",
    "    a1=str(a)\n",
    "    if len(a1)==4:\n",
    "        a1=str(a)\n",
    "    elif len(a1)==3:\n",
    "        a1='0'+str(a)\n",
    "    k=0\n",
    "    for i in range(len(a1)):\n",
    "        if a1[i]==a1[0]:\n",
    "            k=k+1\n",
    "        if a1[i]==a1[1]:\n",
    "            k=k+1\n",
    "        if a1[i]==a1[2]:\n",
    "            k=k+1\n",
    "        if a1[i]==a1[3]:\n",
    "            k=k+1\n",
    "print(a)\n",
    "b=0\n",
    "while a!=b:\n",
    "    print('Введите четырехзначное число')\n",
    "    corovi=0\n",
    "    biki=0\n",
    "    b=input()\n",
    "    b1=str(b)\n",
    "    if len(b1)<4 or len(b1)>4 or b1.isdigit()==False:\n",
    "        print('Некорректно введено число')\n",
    "        continue\n",
    "    for i in range (len(a1)):\n",
    "        if a1[i]==b1[i]:\n",
    "            biki=biki+1\n",
    "        elif a1[i]==b1[0] or a1[i]==b1[1] or a1[i]==b1[2] or a1[i]==b1[3]:\n",
    "            corovi=corovi+1\n",
    "    print(biki, 'быков', corovi, 'коров')\n",
    "print('Число отгадано')"
   ]
  }
 ],
 "metadata": {
  "kernelspec": {
   "display_name": "Python 3",
   "language": "python",
   "name": "python3"
  },
  "language_info": {
   "codemirror_mode": {
    "name": "ipython",
    "version": 2
   },
   "file_extension": ".py",
   "mimetype": "text/x-python",
   "name": "python",
   "nbconvert_exporter": "python",
   "pygments_lexer": "ipython2",
   "version": "2.7.6"
  }
 },
 "nbformat": 4,
 "nbformat_minor": 5
}
