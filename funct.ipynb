{
 "cells": [
  {
   "cell_type": "code",
   "execution_count": null,
   "id": "07c18280",
   "metadata": {},
   "outputs": [],
   "source": [
    "def get_rows_by_number(tn, start, stop=None, copy_table=False):#скопировать от старта до стопа, если указан, если копитэйбл тру, то просто таблицу скопировать\n",
    "    newtable=[]\n",
    "    if stop is None:\n",
    "        newtable.append(tn[start])\n",
    "    elif copy_table:\n",
    "        newtable=tn[:]\n",
    "    else:\n",
    "        newtable.append(tn[start:stop+1])\n",
    "    return newtable\n",
    "def get_rows_by_index(table,*values , copy_table=False):#даются значения и если совпадает с первымм значением в строке, то копировать строку в таблицу\n",
    "    newtable=[]\n",
    "    if copy_Table is False:\n",
    "        for row in table:\n",
    "            if row[0] in values:\n",
    "                newtable.append(row)\n",
    "    else:\n",
    "        newtable=table.copy()\n",
    "    return newtable\n",
    "def get_column_types(table,by_number=True):#вывод типа столбцов\n",
    "    keys=list(table[0].keys())\n",
    "    if by_number:\n",
    "        return {i: type(table[0][key]) for i, key in enumerate(keys)}\n",
    "    else:\n",
    "        return {key: type(table[0][key]) for key in keys}\n",
    "\n",
    "def set_column_types(table, types_dict, by_number=True):\n",
    "    if by_number:\n",
    "        return types_dict\n",
    "    else:\n",
    "        keys=list(table.keys())\n",
    "        return {key:keys.index(key) for key, values in types_dict.items()}\n",
    "\n",
    "    \n",
    "    "
   ]
  }
 ],
 "metadata": {
  "kernelspec": {
   "display_name": "Python 3 (ipykernel)",
   "language": "python",
   "name": "python3"
  },
  "language_info": {
   "codemirror_mode": {
    "name": "ipython",
    "version": 3
   },
   "file_extension": ".py",
   "mimetype": "text/x-python",
   "name": "python",
   "nbconvert_exporter": "python",
   "pygments_lexer": "ipython3",
   "version": "3.11.4"
  }
 },
 "nbformat": 4,
 "nbformat_minor": 5
}
