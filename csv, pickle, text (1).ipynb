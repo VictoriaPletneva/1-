{
 "cells": [
  {
   "cell_type": "code",
   "execution_count": 5,
   "id": "253a1cb3",
   "metadata": {},
   "outputs": [
    {
     "name": "stdout",
     "output_type": "stream",
     "text": [
      "['Name', 'Age', 'City']\n",
      "['John', '25', 'New York']\n",
      "['Alice', '30', 'London']\n",
      "['Bob', '35', 'Paris']\n"
     ]
    }
   ],
   "source": [
    "import csv\n",
    "def load_table(filename):\n",
    "    # Открываем файл в режиме чтения\n",
    "    with open(filename, 'r') as file:\n",
    "        csv_reader = csv.reader(file)\n",
    "        # Инициализируем пустой список для хранения данных из файла\n",
    "        data = []\n",
    "        # Проходимся по каждой строке в файле CSV\n",
    "        for row in csv_reader:\n",
    "            print(row)\n",
    "\n",
    "def save_table(data, filename):#данные, которые нужно сохранить и имя файла, под которым сохранять\n",
    "    # Открываем файл в режиме записи \"w\" и чтобы не было автоматического добавления новых строк\n",
    "    with open(filename, 'w', newline='', encoding='utf-8') as csvfile:\n",
    "        writer = csv.writer(csvfile)\n",
    "        # Записываем заголовок\n",
    "        writer.writerow(data[0].keys())\n",
    "        # Записываем данные\n",
    "        for row in data:\n",
    "            writer.writerow(row.values())\n",
    "    print(f\"Данные сохранены в файл {filename}\")\n",
    "\n",
    "\n",
    "#test = load_table(\"primer.csv\")\n",
    "#data = [\n",
    "    #{'Name': 'John', 'Age': 25, 'City': 'New York'},\n",
    "    #{'Name': 'Alice', 'Age': 30, 'City': 'London'},\n",
    "    #{'Name': 'Bob', 'Age': 35, 'City': 'Paris'}\n",
    "#]\n",
    "\n",
    "#save_table(data, 'primer.csv')\n"
   ]
  },
  {
   "cell_type": "code",
   "execution_count": null,
   "id": "6ae8330d",
   "metadata": {},
   "outputs": [],
   "source": [
    "import pickle\n",
    "\n",
    "def save_table(obj, filename):#объет, который нужно сохранить и имя файла, куда \n",
    "    with open(filename, 'wb') as file: #режим wb тк в двоичном режиме\n",
    "        pickle.dump(obj, file)# записываем в файл\n",
    "\n",
    "def load_table(filename):\n",
    "    with open(filename, 'rb') as file:\n",
    "        obj = pickle.load(file)\n",
    "    return obj\n",
    "\n",
    "#my_object = {'name': 'John', 'age': 30}\n",
    "#save_table(my_object, 'test2.pkl')\n",
    "#test=load_table('test2.pkl')"
   ]
  },
  {
   "cell_type": "code",
   "execution_count": null,
   "id": "cb31421a",
   "metadata": {},
   "outputs": [],
   "source": [
    "def save_table(table, filename):\n",
    "    with open(filename, 'w') as file:\n",
    "        for row in table:\n",
    "            file.write('\\t'.join(row) + '\\n')\n",
    "def print_table(f):\n",
    "    with open(f, 'r') as file:\n",
    "        for row in file:\n",
    "            print(row, end='')\n",
    "#table = [\n",
    "    #['Name', 'Age', 'City'],\n",
    "    #['John', '25', 'New York'],\n",
    "    #['Alice', '30', 'London'],\n",
    "    #['Bob', '35', 'Paris']\n",
    "#]\n",
    "\n",
    "#save_table(table, 'table.txt')\n",
    "#print_table('table.txt')\n"
   ]
  }
 ],
 "metadata": {
  "kernelspec": {
   "display_name": "Python 3 (ipykernel)",
   "language": "python",
   "name": "python3"
  },
  "language_info": {
   "codemirror_mode": {
    "name": "ipython",
    "version": 3
   },
   "file_extension": ".py",
   "mimetype": "text/x-python",
   "name": "python",
   "nbconvert_exporter": "python",
   "pygments_lexer": "ipython3",
   "version": "3.11.4"
  }
 },
 "nbformat": 4,
 "nbformat_minor": 5
}
