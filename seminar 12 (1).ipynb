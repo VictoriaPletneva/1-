{
 "cells": [
  {
   "cell_type": "code",
   "execution_count": null,
   "id": "db4e2834",
   "metadata": {},
   "outputs": [],
   "source": [
    "#1) При помощи стека (можно использовать любую реализацию стека, например, из лекции) проверить,\n",
    "#что в строке, содержащей большой фрагмент кода на python, корректно открываются и закрываются скобки '(' и ')'. \n",
    "#Заводить какие-либо счетчики и вообще вести подсчет скобок запрещено. \n",
    "#Например, в следующей строке корректное количество скобок: \n",
    "#'((dsasdas((das(d)das)d)asd)da)' \n",
    "#А вот в следующей закрывающих больше, чем открывающих:\n",
    "#'(f(gfhd((hgfdg((fghh)dads)das))ds)adddads())))' "
   ]
  },
  {
   "cell_type": "code",
   "execution_count": 10,
   "id": "4891e773",
   "metadata": {},
   "outputs": [
    {
     "name": "stdout",
     "output_type": "stream",
     "text": [
      "(f(gfhd((hgfdg((fghh)dads)das))ds)adddads())))\n",
      "False\n"
     ]
    }
   ],
   "source": [
    "def proverka(stroka):\n",
    "    st=[]\n",
    "    otkr=[\"(\"]\n",
    "    zakr=[\")\"]\n",
    "    for ch in stroka:\n",
    "            if ch in otkr:\n",
    "                st.append(ch)\n",
    "            elif ch in zakr:\n",
    "                if len(st)==0:\n",
    "                    return False\n",
    "                if st[-1]==otkr[zakr.index(ch)]:\n",
    "                    st.pop()\n",
    "                else:\n",
    "                    return False\n",
    "    return len(st)==0\n",
    "a=input()\n",
    "print(proverka(a))"
   ]
  },
  {
   "cell_type": "code",
   "execution_count": null,
   "id": "38255057",
   "metadata": {},
   "outputs": [],
   "source": [
    "#2)С помощью списка (list) реализовать стек. При создании стека нужно передать максимальную длину стека. \n",
    "#В случае попытки добавления элемента, приводящего к превышению емкости стека возвращать ошибку. \n",
    "#Стек должен поддерживать следующие операции: \n",
    "#S.push(e): добавление элемента e на вершину стека S. \n",
    "#S.pop(): удаляет и возвращает верхний элемент стека S. Если стек пуст, то возникает ошибка. \n",
    "#S.top(): возвращает верхний элемент стека S, не удаляя его. Если стек пуст, то возникает ошибка. \n",
    "#S.is_empty( ): возвращает True если стек S не содержит ни одного элемента. \n",
    "#len(S): возвращает текущеее количество элементов в стеке S. "
   ]
  },
  {
   "cell_type": "code",
   "execution_count": 7,
   "id": "e722255e",
   "metadata": {},
   "outputs": [],
   "source": [
    "class Stack:\n",
    "    def __init__(self,maxs):\n",
    "        self.stack=[]\n",
    "        self.maxs=maxs\n",
    "    def push(self,el):\n",
    "        if len(self.stack)>=self.maxs:\n",
    "            return False\n",
    "        else:\n",
    "            self.stack.append(el)\n",
    "    def pop(self):\n",
    "        assert len(self)!=0, 'Стек пуст'\n",
    "        return self.stack.pop()\n",
    "    def top(self):\n",
    "        assert len(self)!=0, 'Стек пуст'\n",
    "        return self.stack[-1]\n",
    "    def is_empty(self):\n",
    "        if len(self)==0:\n",
    "            return True\n",
    "    def len(self):\n",
    "        return len(self.stack)"
   ]
  },
  {
   "cell_type": "code",
   "execution_count": null,
   "id": "5309385b",
   "metadata": {},
   "outputs": [],
   "source": [
    "#3)Реализовать класс однонаправленного связанного списка"
   ]
  },
  {
   "cell_type": "code",
   "execution_count": null,
   "id": "d20204d0",
   "metadata": {},
   "outputs": [],
   "source": [
    "class Node:\n",
    "    def __init__(self,data):\n",
    "        self.data=data\n",
    "        self.next=None\n",
    "    def append(self,v):\n",
    "        end=None(val)\n",
    "        n=self\n",
    "        while (n.next):\n",
    "            n=n.next\n",
    "        n.next=end\n",
    "class LinkedList:\n",
    "    def __init__(self, data):\n",
    "        self.start_Node=None\n",
    "    def traverse_list(self):\n",
    "        if self.start_Node is None:\n",
    "            print(\"No element\")\n",
    "            return\n",
    "        else:\n",
    "            n=self.start_Node\n",
    "            while n is not None:\n",
    "                print(n.item, \"\")\n",
    "                n=n.ref\n",
    "    def insert_at_start(self,data):\n",
    "        new_node=Node(data)\n",
    "        ned_node.ref=self.start_node\n",
    "    def insert_at_end(self,data):\n",
    "        new_node=Node(data)\n",
    "        if self.start_node is None:\n",
    "            self.start_node=new_node\n",
    "            return\n",
    "        n=self.start_node\n",
    "        while n.ref is not None:\n",
    "            n=n.ref\n",
    "            n.ref=new_node\n",
    "    def insert_at_index(self,index,data):\n",
    "        if index==1:\n",
    "            new_node=Node(data)\n",
    "            new_node.ref=self.start_node\n",
    "            self.start_node=new_node\n",
    "            i=1\n",
    "            n=self.start_node\n",
    "            while i<index-1 and n is not None:\n",
    "                n=n.ref\n",
    "                i=i+1\n",
    "                if n is None:\n",
    "                    print(\"Index is out of bound\")\n",
    "                else:\n",
    "                    new_node=data\n",
    "                    new_node.ref=n.ref\n",
    "                    n.ref=new_node"
   ]
  },
  {
   "cell_type": "code",
   "execution_count": 9,
   "id": "de6881b4",
   "metadata": {},
   "outputs": [],
   "source": [
    "#3.1) Реализовать метод добавления элемента в начало списка"
   ]
  },
  {
   "cell_type": "code",
   "execution_count": 14,
   "id": "21652d65",
   "metadata": {},
   "outputs": [
    {
     "name": "stdout",
     "output_type": "stream",
     "text": [
      "1 2 3 \n"
     ]
    }
   ],
   "source": [
    "class Node:\n",
    "    def __init__(self,data):\n",
    "        self.data=data\n",
    "        self.next=None\n",
    "class LinkedList:\n",
    "    def __init__(self):\n",
    "        self.head=None\n",
    "    def add_to_start(self,data):\n",
    "        new_node=Node(data)\n",
    "        if self.head is None:\n",
    "            self.head=new_node\n",
    "        else:\n",
    "            new_node.next=self.head\n",
    "            self.head=new_node\n",
    "    def print_lst(self):\n",
    "        cur=self.head\n",
    "        while cur:\n",
    "            print(cur.data, end=\" \")\n",
    "            cur=cur.next\n",
    "        print()\n",
    "my_list = LinkedList()\n",
    "\n",
    "my_list.add_to_start(3)\n",
    "my_list.add_to_start(2)\n",
    "my_list.add_to_start(1)\n",
    "\n",
    "my_list.print_lst()"
   ]
  }
 ],
 "metadata": {
  "kernelspec": {
   "display_name": "Python 3 (ipykernel)",
   "language": "python",
   "name": "python3"
  },
  "language_info": {
   "codemirror_mode": {
    "name": "ipython",
    "version": 3
   },
   "file_extension": ".py",
   "mimetype": "text/x-python",
   "name": "python",
   "nbconvert_exporter": "python",
   "pygments_lexer": "ipython3",
   "version": "3.11.5"
  }
 },
 "nbformat": 4,
 "nbformat_minor": 5
}
