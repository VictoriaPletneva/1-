{
 "cells": [
  {
   "cell_type": "code",
   "execution_count": 16,
   "id": "43ee450e",
   "metadata": {},
   "outputs": [
    {
     "name": "stdout",
     "output_type": "stream",
     "text": [
      "[1, 3, 3, 2, 1, 3]\n"
     ]
    }
   ],
   "source": [
    "#Используя список l1, создать список, в котором каждый элемент списка l1 будет заменен значением длины строки соответствующего элемента в списке l1. Использовать генераторы, решить задачу в одну строку.\n",
    "l1 = ['1', '123', '123', '12', '1', '123']; print([len(i) for i in l1])"
   ]
  },
  {
   "cell_type": "code",
   "execution_count": 21,
   "id": "e0140e8c",
   "metadata": {},
   "outputs": [
    {
     "name": "stdout",
     "output_type": "stream",
     "text": [
      "3\n"
     ]
    }
   ],
   "source": [
    "#Подсчитать количество строк в списке l1, длина которых больше 2х. Использовать генераторы, решить задачу в одну строку.\n",
    "l1 = ['1', '123', '123', '12', '1', '123']\n",
    "count= sum(1 for i in l1 if len(i)>2);print(count)"
   ]
  },
  {
   "cell_type": "code",
   "execution_count": 34,
   "id": "170e1891",
   "metadata": {},
   "outputs": [
    {
     "name": "stdout",
     "output_type": "stream",
     "text": [
      "[0, 4, -4, -9, 0, 55, 18, -7]\n"
     ]
    }
   ],
   "source": [
    "#Создать список, в котором все числа списка l2 умножены на их номер в списке. Использовать генераторы, решить задачу в одну строку.\n",
    "l2 = [2, 4, -2, -3, 0 , 11 , 3, -1];print([x * i for i, x in enumerate(l2)])"
   ]
  },
  {
   "cell_type": "code",
   "execution_count": 43,
   "id": "60a62253",
   "metadata": {},
   "outputs": [
    {
     "name": "stdout",
     "output_type": "stream",
     "text": [
      "[2, 4, 11, 3]\n"
     ]
    }
   ],
   "source": [
    "#Создать список, в котором все отрицательные числа списка l2 исключены, остальные элементы сохранены на своих местах. Использовать генераторы, решить задачу в одну строку.\n",
    "l2 = [2, 4, -2, -3, 0 , 11 , 3, -1]; print([i for i in l2 if i>0 ])"
   ]
  },
  {
   "cell_type": "code",
   "execution_count": 47,
   "id": "9ef63c38",
   "metadata": {},
   "outputs": [
    {
     "name": "stdout",
     "output_type": "stream",
     "text": [
      "[2, 4, 2, 3, 4, 11, 3, 7]\n"
     ]
    }
   ],
   "source": [
    "#Создать список, в котором все отрицательные числа списка l2 заменены на их номер в списке, остальные элементы сохранены на своих местах. Использовать генераторы и тернарный оператор, решить задачу в одну строку.\n",
    "l2 = [2, 4, -2, -3, 0 , 11 , 3, -1]; print([i if i>0 else l2.index(i) for i in l2])"
   ]
  },
  {
   "cell_type": "code",
   "execution_count": 49,
   "id": "20bb7355",
   "metadata": {},
   "outputs": [
    {
     "name": "stdout",
     "output_type": "stream",
     "text": [
      "{'a': 1, 'b': 2, 'c': 3, 'd': 4, 'e': 5, 'f': 6}\n"
     ]
    }
   ],
   "source": [
    "#На основе переданной строки (не содержащей повторяющихся символов) создать словарь, в котором каждому символу строки будет соответствовать номер символа в строке. Использовать генераторы, решить задачу в одну строку. Пример: строка 'abcdef', словарь {'a': 1, 'b': 2, 'c': 3, 'd': 4}\n",
    "s='abcdef'; print({char: index for index, char in enumerate(s, start=1)})"
   ]
  },
  {
   "cell_type": "code",
   "execution_count": 63,
   "id": "30596406",
   "metadata": {},
   "outputs": [
    {
     "name": "stdout",
     "output_type": "stream",
     "text": [
      "1\n"
     ]
    }
   ],
   "source": [
    "#Определить, сколько элементов заданного списка содержится в словаре. Использовать генераторы, решить задачу в одну строку. Пример: определить сколько элементов списка l1 содержится в словаре d1. (ответ: 2)\n",
    "l1 = ['1', '123', '123', '12', '1', '123']\n",
    "d4 = {1: 10, '12': 20, 3: 30, 4: 40, 5: 50, 6: 60}\n",
    "print(sum(1 for i in l1 if i in d4))"
   ]
  },
  {
   "cell_type": "code",
   "execution_count": 64,
   "id": "12628c8f",
   "metadata": {},
   "outputs": [
    {
     "name": "stdout",
     "output_type": "stream",
     "text": [
      "{'e': 3, 'v': 1, 'g': 1, 'n': 1, '_': 1, 'o': 1}\n"
     ]
    }
   ],
   "source": [
    "# Для строки evgene_o создать словарь, где для всех символов, встречающихся в строке, хранится число: сколько раз символ встретился в строке evgene_o. Использовать генераторы, решить задачу в одну строку.\n",
    "s='evgene_o'; print({char:s.count(char) for char in s })"
   ]
  },
  {
   "cell_type": "code",
   "execution_count": 67,
   "id": "c9940623",
   "metadata": {},
   "outputs": [
    {
     "name": "stdout",
     "output_type": "stream",
     "text": [
      "5\n"
     ]
    }
   ],
   "source": [
    "#Используя словарь, полученный в предыдущей задаче, подсчитать количество строчных букв в строке evgene_o. Использовать генераторы, решить задачу в одну строку.\n",
    "s='evgene_o'\n",
    "slov={char:s.count(char) for char in s }; print(sum(1 for char in slov if char.islower()))"
   ]
  },
  {
   "cell_type": "code",
   "execution_count": 69,
   "id": "4fb9bfb1",
   "metadata": {},
   "outputs": [
    {
     "name": "stdout",
     "output_type": "stream",
     "text": [
      "910\n"
     ]
    }
   ],
   "source": [
    "#Просуммировать произведения ключей словаря d4 на соответствующие им значения. Использовать генераторы, решить задачу в одну строку.\n",
    "d4 = {1: 10, 2: 20, 3: 30, 4: 40, 5: 50, 6: 60}; print(sum(k*v for k, v in d4.items()))"
   ]
  },
  {
   "cell_type": "code",
   "execution_count": 71,
   "id": "cfdbe122",
   "metadata": {},
   "outputs": [
    {
     "name": "stdout",
     "output_type": "stream",
     "text": [
      "{'h': 23, 'i': 24, 'j': 25, 'k': 26, 'l': 27}\n"
     ]
    }
   ],
   "source": [
    "# На базе словаря d6 создать словарь d7, в котором нет пар ключ-значение с ключами, встречающимися в словаре d5. Использовать генераторы, решить задачу в одну строку.\n",
    "d5 = {'a': 3, 'b': 4, 'c': 5, 'd': 6, 'e': 7, 'f': 8, 'g': 9}\n",
    "d6 = {'e': 20, 'f': 21, 'g': 22, 'h': 23, 'i': 24, 'j': 25, 'k': 26, 'l': 27}\n",
    "print({k: v for k, v in d6.items() if k not in d5 })"
   ]
  },
  {
   "cell_type": "code",
   "execution_count": null,
   "id": "9b53b299",
   "metadata": {},
   "outputs": [],
   "source": []
  }
 ],
 "metadata": {
  "kernelspec": {
   "display_name": "Python 3 (ipykernel)",
   "language": "python",
   "name": "python3"
  },
  "language_info": {
   "codemirror_mode": {
    "name": "ipython",
    "version": 3
   },
   "file_extension": ".py",
   "mimetype": "text/x-python",
   "name": "python",
   "nbconvert_exporter": "python",
   "pygments_lexer": "ipython3",
   "version": "3.11.4"
  }
 },
 "nbformat": 4,
 "nbformat_minor": 5
}
