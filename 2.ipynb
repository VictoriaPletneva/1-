{
 "cells": [
  {
   "cell_type": "code",
   "execution_count": null,
   "id": "initial_id",
   "metadata": {
    "collapsed": true
   },
   "outputs": [],
   "source": [
    "pole=[1, 2, 3,\n",
    "      4, 5, 6,\n",
    "      7, 8, 9]\n",
    "pobeda=[[0, 1, 2],\n",
    "        [3, 4, 5],\n",
    "        [6, 7, 8],\n",
    "        [0, 4, 8],\n",
    "        [2, 4, 6],\n",
    "        [2, 5, 8],\n",
    "        [1, 4, 7],\n",
    "        [0, 3, 6]]\n",
    "def print_pole():\n",
    "    print(pole[0], end=' ')\n",
    "    print(pole[1], end=' ')\n",
    "    print(pole[2])\n",
    "    \n",
    "    print(pole[3], end=' ')\n",
    "    print(pole[4], end=' ')\n",
    "    print(pole[5])\n",
    "    \n",
    "    print(pole[6], end=' ')\n",
    "    print(pole[7], end=' ')\n",
    "    print(pole[8])\n",
    "def step_pole(step,symbol):\n",
    "    ind=pole.index(step)\n",
    "    pole[ind]=symbol\n",
    "def get_result():\n",
    "    pobeda=\"\"\n",
    "    \n",
    "    for i in pobeda:\n",
    "        if pole[i[0]]=='X' and pole[i[1]]=='X' and pole[i[2]]=='X':\n",
    "            pobeda='X'\n",
    "        if pole[i[0]]=='O' and pole[i[1]]=='O' and pole[i[2]]=='O':\n",
    "            pobeda='O'\n",
    "    return pobeda\n",
    "game_over=False\n",
    "player1=True\n",
    "while game_over==False:\n",
    "    print_pole()\n",
    "    if player1==True:\n",
    "        symbol='X'\n",
    "        step=int(input())\n",
    "    else:\n",
    "        symbol='O'\n",
    "        step=int(input())\n",
    "    step_pole(step,symbol)\n",
    "    pobeda=get_result()\n",
    "    if pobeda!='':\n",
    "        game_over=True\n",
    "    else:\n",
    "        game_over=False\n",
    "    player1=not(player1)\n",
    "print(pole)\n",
    "print(\"Победил\",win)"
   ]
  }
 ],
 "metadata": {
  "kernelspec": {
   "display_name": "Python 3",
   "language": "python",
   "name": "python3"
  },
  "language_info": {
   "codemirror_mode": {
    "name": "ipython",
    "version": 2
   },
   "file_extension": ".py",
   "mimetype": "text/x-python",
   "name": "python",
   "nbconvert_exporter": "python",
   "pygments_lexer": "ipython2",
   "version": "2.7.6"
  }
 },
 "nbformat": 4,
 "nbformat_minor": 5
}
