{
 "cells": [
  {
   "cell_type": "code",
   "execution_count": null,
   "id": "2dfa8405",
   "metadata": {},
   "outputs": [],
   "source": [
    "#Используюя список l1 создать список, в ктором каждый элемент списка l1 будет заменен значением длинны строки соответствующего элемента в списке l1. Использовать генераторы, решить задачу в одну строку.\n",
    "l1 = ['1', '123', '123', '12', '1', '123']; print([len(i) for i in l1])"
   ]
  },
  {
   "cell_type": "code",
   "execution_count": null,
   "id": "a54360d0",
   "metadata": {},
   "outputs": [],
   "source": [
    "#Подсчитать количество строк в списке l1, длина которых больше 2х. Использовать генераторы, решить задачу в одну строку\n",
    "l1 = ['1', '123', '123', '12', '1', '123']\n",
    "count= sum(1 for i in l1 if len(i)>2);print(count)"
   ]
  },
  {
   "cell_type": "code",
   "execution_count": 1,
   "id": "62c93026",
   "metadata": {},
   "outputs": [
    {
     "name": "stdout",
     "output_type": "stream",
     "text": [
      "910\n"
     ]
    }
   ],
   "source": [
    "#Просуммировать произведение ключей на значения словаря d4.\n",
    "d4 = {1: 10, 2: 20, 3: 30, 4: 40, 5: 50, 6: 60}\n",
    "print(sum(ch*k for ch,k in d4.items()))"
   ]
  },
  {
   "cell_type": "code",
   "execution_count": null,
   "id": "b779d193",
   "metadata": {},
   "outputs": [],
   "source": [
    "#На базе словаря d6 составить словарь d7 в котором нет пар ключ-значение с ключами, встречающимися в словаре d5. Использовать генераторы, решить задачу в одну строку.\n",
    "d5 = {'a': 3, 'b': 4, 'c': 5, 'd': 6, 'e': 7, 'f': 8, 'g': 9}\n",
    "d6 = {'e': 20, 'f': 21, 'g': 22, 'h': 23, 'i': 24, 'j': 25, 'k': 26, 'l': 27}\n",
    "print({k: v for k, v in d6.items() if k not in d5 })"
   ]
  },
  {
   "cell_type": "code",
   "execution_count": null,
   "id": "3e69fe72",
   "metadata": {},
   "outputs": [],
   "source": [
    "#Создать список, в котором все числа списка l2 умножены на их номер в списке, остальные элементы сохранены на своих местах. Использовать генераторы, решить задачу в одну строку.\n",
    "l2 = [2, 4, -2, -3, 0 , 11 , 3, -1];print([x * i for i, x in enumerate(l2)])"
   ]
  },
  {
   "cell_type": "code",
   "execution_count": null,
   "id": "dad4a721",
   "metadata": {},
   "outputs": [],
   "source": [
    "#Создать список, в котором все отрицательные числа списка l2 исключены, остальные элементы сохранены на своих местах. Использовать генераторы, решить задачу в одну строку.\n",
    "l2 = [2, 4, -2, -3, 0 , 11 , 3, -1]; print([i for i in l2 if i>0 ])"
   ]
  },
  {
   "cell_type": "code",
   "execution_count": null,
   "id": "0815b5bc",
   "metadata": {},
   "outputs": [],
   "source": [
    "#Создать список, в котором все отрицательные числа списка l2 заменены на их номер в списке, остальные элементы сохранены на своих местах. Использовать генераторы и тернарный оператор, решить задачу в одну строку.\n",
    "l2 = [2, 4, -2, -3, 0 , 11 , 3, -1]; print([i if i>0 else l2.index(i) for i in l2])"
   ]
  },
  {
   "cell_type": "code",
   "execution_count": 15,
   "id": "6f5ed5a6",
   "metadata": {},
   "outputs": [
    {
     "name": "stdout",
     "output_type": "stream",
     "text": [
      "20 7.5 -10\n"
     ]
    }
   ],
   "source": [
    "#Написать задокументированную функцию умножения двух чисел. Для каких типов данная функция будет возвращать практически ценный результат? Написать примеры использования этой функции.\n",
    "def multiply(x, y):\n",
    "        return x * y\n",
    "#Примеры:\n",
    "r1 = multiply(5, 4)  \n",
    "r2 = multiply(2.5, 3) \n",
    "r3 = multiply(-5, 2) \n",
    "print(r1, r2, r3)"
   ]
  },
  {
   "cell_type": "code",
   "execution_count": 16,
   "id": "a4147c4e",
   "metadata": {},
   "outputs": [
    {
     "name": "stdout",
     "output_type": "stream",
     "text": [
      "20 15.0 3\n"
     ]
    }
   ],
   "source": [
    "#Написать функцию умножения принимающую от одного до трех параметров. Написать примеры использования этой функции с разным количеством параметров.\n",
    "def multiply(*args):\n",
    "    result = 1\n",
    "    for num in args:\n",
    "        result *= num\n",
    "    return result\n",
    "#Примеры:\n",
    "r1 = multiply(5, 4)  \n",
    "r2 = multiply(2.5, 3, 2)  \n",
    "r3 = multiply(3)\n",
    "print(r1, r2, r3)"
   ]
  },
  {
   "cell_type": "code",
   "execution_count": 18,
   "id": "811ee450",
   "metadata": {},
   "outputs": [
    {
     "name": "stdout",
     "output_type": "stream",
     "text": [
      "750 3 3850 750 3000\n"
     ]
    }
   ],
   "source": [
    "#Функцию из задания 2 вызвать с приведенными ниже аргументами. Для случая a4 выбрать 3 первых и 3 последних значения.\n",
    "a1 = (15, 10 ,5)\n",
    "a2 = (3, 1)\n",
    "a3 = [2, 35, 55]\n",
    "a4 = (5, 10 ,15, 20)\n",
    "def multiply(*args):\n",
    "    result = 1\n",
    "    for num in args:\n",
    "        result *= num\n",
    "    return result\n",
    "r1 = multiply(*a1) \n",
    "r2 = multiply(*a2)\n",
    "r3 = multiply(*a3) \n",
    "r4 = multiply(*a4[:3])\n",
    "r5 = multiply(*a4[-3:]) \n",
    "print(r1, r2, r3, r4, r5)"
   ]
  },
  {
   "cell_type": "code",
   "execution_count": 19,
   "id": "33393149",
   "metadata": {},
   "outputs": [
    {
     "name": "stdout",
     "output_type": "stream",
     "text": [
      "750 3 3850 15000\n"
     ]
    }
   ],
   "source": [
    "#Реализовать функцию умножения, принимающую неограниченное количество значений. Написать примеры использования этой функции, в том числе с аргументами из задания 3.\n",
    "def multiply(*args):\n",
    "    result = 1\n",
    "    for num in args:\n",
    "        result *= num\n",
    "    return result\n",
    "\n",
    "# Примеры использования\n",
    "a1 = (15, 10, 5)\n",
    "a2 = (3, 1)\n",
    "a3 = [2, 35, 55]\n",
    "a4 = (5, 10, 15, 20)\n",
    "\n",
    "result3 = multiply(*a1)  \n",
    "result4 = multiply(*a2) \n",
    "result5 = multiply(*a3) \n",
    "result6 = multiply(*a4)  \n",
    "print(result3, result4, result5, result6)\n"
   ]
  },
  {
   "cell_type": "code",
   "execution_count": 24,
   "id": "db6810cf",
   "metadata": {},
   "outputs": [
    {
     "name": "stdout",
     "output_type": "stream",
     "text": [
      "Введите операцию (plus, minus, umn, dele): dele\n",
      "Введите x и y\n",
      "1000\n",
      "5\n",
      "200\n"
     ]
    }
   ],
   "source": [
    "#Реализовать функции для выполнения четырех арифмитических операций преобразующих целые числа в целое число. Для двух заранее заданных целых чисел выполнить выбранную пользователем арифметическую операцию.\n",
    "def plus(x, y):\n",
    "    return x + y\n",
    "def minus(x, y):\n",
    "    return x - y\n",
    "def umn(x, y):\n",
    "    return x * y\n",
    "def dele(x, y):\n",
    "    return x // y  \n",
    "operation = input(\"Введите операцию (plus, minus, umn, dele): \")\n",
    "print('Введите x и y')\n",
    "x=int(input())\n",
    "y=int(input())\n",
    "if operation == 'plus':\n",
    "    result = plus(x, y)  # Результат: 15\n",
    "elif operation == 'minus':\n",
    "    result = minus(x, y)  # Результат: 5\n",
    "elif operation == 'umn':\n",
    "    result =umn(x, y)  # Результат: 50\n",
    "elif operation == 'dele':\n",
    "    result = dele(x, y)  # Результат: 2\n",
    "print(result)"
   ]
  },
  {
   "cell_type": "code",
   "execution_count": 40,
   "id": "e33f9236",
   "metadata": {},
   "outputs": [
    {
     "name": "stdout",
     "output_type": "stream",
     "text": [
      "Введите число от 0 до 99: 44\n",
      "сорок четыре\n"
     ]
    }
   ],
   "source": [
    "#Написать функцию, которая преобразует целое число (от 0 до 99) в текстовое написание числа на русском языке. Пример: to_text(15) -> 'Пятнадцать'\n",
    "def to_text(number):\n",
    "    edin = ('', 'один', 'два', 'три', 'четыре', 'пять', 'шесть', 'семь', 'восемь', 'девять')\n",
    "    des = ('', 'десять', 'двадцать', 'тридцать', 'сорок', 'пятьдесят', 'шестьдесят', 'семьдесят', 'восемьдесят', 'девяносто')\n",
    "    dr = ('', 'одиннадцать', 'двенадцать', 'тринадцать', 'четырнадцать', 'пятнадцать', 'шестнадцать', 'семнадцать', 'восемнадцать', 'девятнадцать')\n",
    "\n",
    "    if number == 0:\n",
    "        return 'Ноль'\n",
    "    elif number < 10:\n",
    "        return edin[number]\n",
    "    elif number==10:\n",
    "        return('десять')\n",
    "    elif number < 20:\n",
    "        return dr[number - 10]\n",
    "    else:\n",
    "        des_digit = number // 10\n",
    "        edin_digit = number % 10\n",
    "        if edin_digit == 0:\n",
    "            return des[des_digit]\n",
    "        else:\n",
    "            return des[des_digit] + ' ' + edin[edin_digit]\n",
    "\n",
    "n = int(input(\"Введите число от 0 до 99: \"))\n",
    "if n > 99 or n < 0:\n",
    "    print('Ошибка')\n",
    "else:\n",
    "    print(to_text(n))"
   ]
  }
 ],
 "metadata": {
  "kernelspec": {
   "display_name": "Python 3 (ipykernel)",
   "language": "python",
   "name": "python3"
  },
  "language_info": {
   "codemirror_mode": {
    "name": "ipython",
    "version": 3
   },
   "file_extension": ".py",
   "mimetype": "text/x-python",
   "name": "python",
   "nbconvert_exporter": "python",
   "pygments_lexer": "ipython3",
   "version": "3.11.4"
  }
 },
 "nbformat": 4,
 "nbformat_minor": 5
}
